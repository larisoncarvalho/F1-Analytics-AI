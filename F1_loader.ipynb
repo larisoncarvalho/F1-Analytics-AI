{
  "nbformat": 4,
  "nbformat_minor": 0,
  "metadata": {
    "colab": {
      "provenance": [],
      "gpuType": "T4",
      "mount_file_id": "1f-TZc0C_GUQVfsU6E41HRqRghI2OYi8q",
      "authorship_tag": "ABX9TyP+8ugE1YSMmeqwSEp98hxq"
    },
    "kernelspec": {
      "name": "python3",
      "display_name": "Python 3"
    },
    "language_info": {
      "name": "python"
    },
    "widgets": {
      "application/vnd.jupyter.widget-state+json": {
        "d21b7bcf8f514a39a4d255e97cd8c0d0": {
          "model_module": "@jupyter-widgets/controls",
          "model_name": "HBoxModel",
          "model_module_version": "1.5.0",
          "state": {
            "_dom_classes": [],
            "_model_module": "@jupyter-widgets/controls",
            "_model_module_version": "1.5.0",
            "_model_name": "HBoxModel",
            "_view_count": null,
            "_view_module": "@jupyter-widgets/controls",
            "_view_module_version": "1.5.0",
            "_view_name": "HBoxView",
            "box_style": "",
            "children": [
              "IPY_MODEL_d1ac7df7ad294e9d9e9157653469d269",
              "IPY_MODEL_2ff1a08d51564f6eab9a3b19d9c6b31f",
              "IPY_MODEL_9a9752d88a1545899ffa3980475174cb"
            ],
            "layout": "IPY_MODEL_6aab2f851adc47e79e88798fc4d48609"
          }
        },
        "d1ac7df7ad294e9d9e9157653469d269": {
          "model_module": "@jupyter-widgets/controls",
          "model_name": "HTMLModel",
          "model_module_version": "1.5.0",
          "state": {
            "_dom_classes": [],
            "_model_module": "@jupyter-widgets/controls",
            "_model_module_version": "1.5.0",
            "_model_name": "HTMLModel",
            "_view_count": null,
            "_view_module": "@jupyter-widgets/controls",
            "_view_module_version": "1.5.0",
            "_view_name": "HTMLView",
            "description": "",
            "description_tooltip": null,
            "layout": "IPY_MODEL_831e9746ddf44e56b4ecf043414cd663",
            "placeholder": "​",
            "style": "IPY_MODEL_df75bf72cd674be7bb831404f8900232",
            "value": "Loading checkpoint shards: 100%"
          }
        },
        "2ff1a08d51564f6eab9a3b19d9c6b31f": {
          "model_module": "@jupyter-widgets/controls",
          "model_name": "FloatProgressModel",
          "model_module_version": "1.5.0",
          "state": {
            "_dom_classes": [],
            "_model_module": "@jupyter-widgets/controls",
            "_model_module_version": "1.5.0",
            "_model_name": "FloatProgressModel",
            "_view_count": null,
            "_view_module": "@jupyter-widgets/controls",
            "_view_module_version": "1.5.0",
            "_view_name": "ProgressView",
            "bar_style": "success",
            "description": "",
            "description_tooltip": null,
            "layout": "IPY_MODEL_ea6a038263c6450aa5c17e097e89cbce",
            "max": 2,
            "min": 0,
            "orientation": "horizontal",
            "style": "IPY_MODEL_ca3eee0594b143c580817a464af6e841",
            "value": 2
          }
        },
        "9a9752d88a1545899ffa3980475174cb": {
          "model_module": "@jupyter-widgets/controls",
          "model_name": "HTMLModel",
          "model_module_version": "1.5.0",
          "state": {
            "_dom_classes": [],
            "_model_module": "@jupyter-widgets/controls",
            "_model_module_version": "1.5.0",
            "_model_name": "HTMLModel",
            "_view_count": null,
            "_view_module": "@jupyter-widgets/controls",
            "_view_module_version": "1.5.0",
            "_view_name": "HTMLView",
            "description": "",
            "description_tooltip": null,
            "layout": "IPY_MODEL_e7aaa445de654079aa2044e682e78d22",
            "placeholder": "​",
            "style": "IPY_MODEL_ac0358446b3a47d69af1f9e9f366966d",
            "value": " 2/2 [01:01&lt;00:00, 61.51s/it]"
          }
        },
        "6aab2f851adc47e79e88798fc4d48609": {
          "model_module": "@jupyter-widgets/base",
          "model_name": "LayoutModel",
          "model_module_version": "1.2.0",
          "state": {
            "_model_module": "@jupyter-widgets/base",
            "_model_module_version": "1.2.0",
            "_model_name": "LayoutModel",
            "_view_count": null,
            "_view_module": "@jupyter-widgets/base",
            "_view_module_version": "1.2.0",
            "_view_name": "LayoutView",
            "align_content": null,
            "align_items": null,
            "align_self": null,
            "border": null,
            "bottom": null,
            "display": null,
            "flex": null,
            "flex_flow": null,
            "grid_area": null,
            "grid_auto_columns": null,
            "grid_auto_flow": null,
            "grid_auto_rows": null,
            "grid_column": null,
            "grid_gap": null,
            "grid_row": null,
            "grid_template_areas": null,
            "grid_template_columns": null,
            "grid_template_rows": null,
            "height": null,
            "justify_content": null,
            "justify_items": null,
            "left": null,
            "margin": null,
            "max_height": null,
            "max_width": null,
            "min_height": null,
            "min_width": null,
            "object_fit": null,
            "object_position": null,
            "order": null,
            "overflow": null,
            "overflow_x": null,
            "overflow_y": null,
            "padding": null,
            "right": null,
            "top": null,
            "visibility": null,
            "width": null
          }
        },
        "831e9746ddf44e56b4ecf043414cd663": {
          "model_module": "@jupyter-widgets/base",
          "model_name": "LayoutModel",
          "model_module_version": "1.2.0",
          "state": {
            "_model_module": "@jupyter-widgets/base",
            "_model_module_version": "1.2.0",
            "_model_name": "LayoutModel",
            "_view_count": null,
            "_view_module": "@jupyter-widgets/base",
            "_view_module_version": "1.2.0",
            "_view_name": "LayoutView",
            "align_content": null,
            "align_items": null,
            "align_self": null,
            "border": null,
            "bottom": null,
            "display": null,
            "flex": null,
            "flex_flow": null,
            "grid_area": null,
            "grid_auto_columns": null,
            "grid_auto_flow": null,
            "grid_auto_rows": null,
            "grid_column": null,
            "grid_gap": null,
            "grid_row": null,
            "grid_template_areas": null,
            "grid_template_columns": null,
            "grid_template_rows": null,
            "height": null,
            "justify_content": null,
            "justify_items": null,
            "left": null,
            "margin": null,
            "max_height": null,
            "max_width": null,
            "min_height": null,
            "min_width": null,
            "object_fit": null,
            "object_position": null,
            "order": null,
            "overflow": null,
            "overflow_x": null,
            "overflow_y": null,
            "padding": null,
            "right": null,
            "top": null,
            "visibility": null,
            "width": null
          }
        },
        "df75bf72cd674be7bb831404f8900232": {
          "model_module": "@jupyter-widgets/controls",
          "model_name": "DescriptionStyleModel",
          "model_module_version": "1.5.0",
          "state": {
            "_model_module": "@jupyter-widgets/controls",
            "_model_module_version": "1.5.0",
            "_model_name": "DescriptionStyleModel",
            "_view_count": null,
            "_view_module": "@jupyter-widgets/base",
            "_view_module_version": "1.2.0",
            "_view_name": "StyleView",
            "description_width": ""
          }
        },
        "ea6a038263c6450aa5c17e097e89cbce": {
          "model_module": "@jupyter-widgets/base",
          "model_name": "LayoutModel",
          "model_module_version": "1.2.0",
          "state": {
            "_model_module": "@jupyter-widgets/base",
            "_model_module_version": "1.2.0",
            "_model_name": "LayoutModel",
            "_view_count": null,
            "_view_module": "@jupyter-widgets/base",
            "_view_module_version": "1.2.0",
            "_view_name": "LayoutView",
            "align_content": null,
            "align_items": null,
            "align_self": null,
            "border": null,
            "bottom": null,
            "display": null,
            "flex": null,
            "flex_flow": null,
            "grid_area": null,
            "grid_auto_columns": null,
            "grid_auto_flow": null,
            "grid_auto_rows": null,
            "grid_column": null,
            "grid_gap": null,
            "grid_row": null,
            "grid_template_areas": null,
            "grid_template_columns": null,
            "grid_template_rows": null,
            "height": null,
            "justify_content": null,
            "justify_items": null,
            "left": null,
            "margin": null,
            "max_height": null,
            "max_width": null,
            "min_height": null,
            "min_width": null,
            "object_fit": null,
            "object_position": null,
            "order": null,
            "overflow": null,
            "overflow_x": null,
            "overflow_y": null,
            "padding": null,
            "right": null,
            "top": null,
            "visibility": null,
            "width": null
          }
        },
        "ca3eee0594b143c580817a464af6e841": {
          "model_module": "@jupyter-widgets/controls",
          "model_name": "ProgressStyleModel",
          "model_module_version": "1.5.0",
          "state": {
            "_model_module": "@jupyter-widgets/controls",
            "_model_module_version": "1.5.0",
            "_model_name": "ProgressStyleModel",
            "_view_count": null,
            "_view_module": "@jupyter-widgets/base",
            "_view_module_version": "1.2.0",
            "_view_name": "StyleView",
            "bar_color": null,
            "description_width": ""
          }
        },
        "e7aaa445de654079aa2044e682e78d22": {
          "model_module": "@jupyter-widgets/base",
          "model_name": "LayoutModel",
          "model_module_version": "1.2.0",
          "state": {
            "_model_module": "@jupyter-widgets/base",
            "_model_module_version": "1.2.0",
            "_model_name": "LayoutModel",
            "_view_count": null,
            "_view_module": "@jupyter-widgets/base",
            "_view_module_version": "1.2.0",
            "_view_name": "LayoutView",
            "align_content": null,
            "align_items": null,
            "align_self": null,
            "border": null,
            "bottom": null,
            "display": null,
            "flex": null,
            "flex_flow": null,
            "grid_area": null,
            "grid_auto_columns": null,
            "grid_auto_flow": null,
            "grid_auto_rows": null,
            "grid_column": null,
            "grid_gap": null,
            "grid_row": null,
            "grid_template_areas": null,
            "grid_template_columns": null,
            "grid_template_rows": null,
            "height": null,
            "justify_content": null,
            "justify_items": null,
            "left": null,
            "margin": null,
            "max_height": null,
            "max_width": null,
            "min_height": null,
            "min_width": null,
            "object_fit": null,
            "object_position": null,
            "order": null,
            "overflow": null,
            "overflow_x": null,
            "overflow_y": null,
            "padding": null,
            "right": null,
            "top": null,
            "visibility": null,
            "width": null
          }
        },
        "ac0358446b3a47d69af1f9e9f366966d": {
          "model_module": "@jupyter-widgets/controls",
          "model_name": "DescriptionStyleModel",
          "model_module_version": "1.5.0",
          "state": {
            "_model_module": "@jupyter-widgets/controls",
            "_model_module_version": "1.5.0",
            "_model_name": "DescriptionStyleModel",
            "_view_count": null,
            "_view_module": "@jupyter-widgets/base",
            "_view_module_version": "1.2.0",
            "_view_name": "StyleView",
            "description_width": ""
          }
        }
      }
    },
    "accelerator": "GPU"
  },
  "cells": [
    {
      "cell_type": "code",
      "source": [
        "from google.colab import drive\n",
        "drive.mount('/content/drive')"
      ],
      "metadata": {
        "colab": {
          "base_uri": "https://localhost:8080/"
        },
        "id": "6zUo52lTFzZV",
        "outputId": "9494ea76-725e-4ea3-8ed1-46c8272e36ae"
      },
      "execution_count": null,
      "outputs": [
        {
          "output_type": "stream",
          "name": "stdout",
          "text": [
            "Drive already mounted at /content/drive; to attempt to forcibly remount, call drive.mount(\"/content/drive\", force_remount=True).\n"
          ]
        }
      ]
    },
    {
      "cell_type": "code",
      "execution_count": null,
      "metadata": {
        "id": "0487Rnh3lqI-"
      },
      "outputs": [],
      "source": [
        "import pandas as pd\n",
        "import glob\n",
        "\n",
        "#Load Qualifying data\n",
        "quali_column_names = [\"Position\",\"Driver Number\",\"Driver\",\"Driver Abbreviation\",\"Car\",\"Q1\",\"Q2\",\"Q3\",\"Laps\",\"Year\",\"Location\"]\n",
        "\n",
        "quali_directory_path = \"drive/MyDrive/f1_data/*/Qualifying Results/*.csv\"\n",
        "quali_files = glob.glob(quali_directory_path)\n",
        "\n",
        "dfs = []\n",
        "for file in quali_files:\n",
        "  year = file.split(\"/\")[3]\n",
        "  location = file.split(\"/\")[5].split(\"_\")[0].replace(\"-\", \" \")\n",
        "  df = pd.read_csv(file, header = None, skiprows=1)\n",
        "  df['Year'] = year\n",
        "  df['Location'] = location\n",
        "  dfs.append(df)\n",
        "\n",
        "quali_dataframe = pd.concat(dfs, ignore_index=True)\n",
        "quali_dataframe.columns = quali_column_names"
      ]
    },
    {
      "cell_type": "code",
      "source": [
        "print(len(quali_dataframe))"
      ],
      "metadata": {
        "colab": {
          "base_uri": "https://localhost:8080/"
        },
        "id": "xvH3fxa5_YGo",
        "outputId": "b5d8ba07-d59e-48cd-ef58-6498225fa95a"
      },
      "execution_count": null,
      "outputs": [
        {
          "output_type": "stream",
          "name": "stdout",
          "text": [
            "16459\n"
          ]
        }
      ]
    },
    {
      "cell_type": "code",
      "source": [
        "print(quali_dataframe.head(-20))"
      ],
      "metadata": {
        "colab": {
          "base_uri": "https://localhost:8080/"
        },
        "id": "U0czcBTw_-rU",
        "outputId": "1ebbe058-5bf2-4330-f319-84ac85e648c2"
      },
      "execution_count": null,
      "outputs": [
        {
          "output_type": "stream",
          "name": "stdout",
          "text": [
            "      Position  Driver Number             Driver Driver Abbreviation  \\\n",
            "0            1             22     Lewis Hamilton                 HAM   \n",
            "1            2              2       Felipe Massa                 MAS   \n",
            "2            3             23  Heikki Kovalainen                 KOV   \n",
            "3            4             11       Jarno Trulli                 TRU   \n",
            "4            5              5    Fernando Alonso                 ALO   \n",
            "...        ...            ...                ...                 ...   \n",
            "16434        1              6          Jim Clark                 CLA   \n",
            "16435        1              5          Jim Clark                 CLA   \n",
            "16436        1              8       Jack Brabham                 BRA   \n",
            "16437        1              6        Graham Hill                 HIL   \n",
            "16438        1              9         Chris Amon                 AMO   \n",
            "\n",
            "                    Car        Q1        Q2        Q3  Laps  Year  \\\n",
            "0      McLaren Mercedes  1:15.218  1:14.603  1:15.666  13.0  2008   \n",
            "1               Ferrari  1:14.921  1:14.747  1:15.859  16.0  2008   \n",
            "2      McLaren Mercedes  1:15.476  1:14.855  1:16.143  17.0  2008   \n",
            "3                Toyota  1:15.560  1:15.122  1:16.191  21.0  2008   \n",
            "4               Renault  1:15.917  1:14.943  1:16.385  19.0  2008   \n",
            "...                 ...       ...       ...       ...   ...   ...   \n",
            "16434        Lotus Ford  1:25.300       NaN       NaN   NaN  1967   \n",
            "16435        Lotus Ford  1:47.560       NaN       NaN   NaN  1967   \n",
            "16436     Brabham Repco  1:27.600       NaN       NaN   NaN  1967   \n",
            "16437        Lotus Ford  1:24.600       NaN       NaN   NaN  1967   \n",
            "16438           Ferrari  1:23.540       NaN       NaN   NaN  1968   \n",
            "\n",
            "            Location  \n",
            "0            germany  \n",
            "1            germany  \n",
            "2            germany  \n",
            "3            germany  \n",
            "4            germany  \n",
            "...              ...  \n",
            "16434  great britain  \n",
            "16435         mexico  \n",
            "16436         monaco  \n",
            "16437    netherlands  \n",
            "16438    netherlands  \n",
            "\n",
            "[16439 rows x 11 columns]\n"
          ]
        }
      ]
    },
    {
      "cell_type": "code",
      "source": [
        "from sqlalchemy import create_engine, MetaData, Table\n",
        "engine = create_engine(\"sqlite:///database.sqlite\")\n",
        "# Create a metadata object\n",
        "metadata = MetaData()\n",
        "\n",
        "# Reflect the database schema\n",
        "metadata.reflect(bind=engine)\n",
        "\n",
        "quali_dataframe.to_sql(\"qualifying\", engine, if_exists=\"append\")\n"
      ],
      "metadata": {
        "colab": {
          "base_uri": "https://localhost:8080/"
        },
        "id": "PiuzrqvzRT1X",
        "outputId": "896fcc4d-ce6d-4dae-e308-5408ffd1d58d"
      },
      "execution_count": null,
      "outputs": [
        {
          "output_type": "execute_result",
          "data": {
            "text/plain": [
              "16459"
            ]
          },
          "metadata": {},
          "execution_count": 6
        }
      ]
    },
    {
      "cell_type": "code",
      "source": [
        "\n",
        "qualifyingTable = Table(\"qualifying\", metadata, autoload_with=engine)\n",
        "\n",
        "# Perform a select query\n",
        "query = qualifyingTable.select().limit(10)\n",
        "\n",
        "with engine.connect() as connection:\n",
        "    result = connection.execute(query)\n",
        "    for row in result:\n",
        "        print(row)"
      ],
      "metadata": {
        "colab": {
          "base_uri": "https://localhost:8080/"
        },
        "id": "Rm9ub8QsRzMm",
        "outputId": "1b315af1-4bf7-46df-b606-5c2b724a69c8"
      },
      "execution_count": null,
      "outputs": [
        {
          "output_type": "stream",
          "name": "stdout",
          "text": [
            "(0, '1', 22, 'Lewis Hamilton', 'HAM', 'McLaren Mercedes', '1:15.218', '1:14.603', '1:15.666', 13.0, '2008', 'germany')\n",
            "(1, '2', 2, 'Felipe Massa', 'MAS', 'Ferrari', '1:14.921', '1:14.747', '1:15.859', 16.0, '2008', 'germany')\n",
            "(2, '3', 23, 'Heikki Kovalainen', 'KOV', 'McLaren Mercedes', '1:15.476', '1:14.855', '1:16.143', 17.0, '2008', 'germany')\n",
            "(3, '4', 11, 'Jarno Trulli', 'TRU', 'Toyota', '1:15.560', '1:15.122', '1:16.191', 21.0, '2008', 'germany')\n",
            "(4, '5', 5, 'Fernando Alonso', 'ALO', 'Renault', '1:15.917', '1:14.943', '1:16.385', 19.0, '2008', 'germany')\n",
            "(5, '6', 1, 'Kimi Räikkönen', 'RAI', 'Ferrari', '1:15.201', '1:14.949', '1:16.389', 19.0, '2008', 'germany')\n",
            "(6, '7', 4, 'Robert Kubica', 'KUB', 'Sauber BMW', '1:15.985', '1:15.109', '1:16.521', 20.0, '2008', 'germany')\n",
            "(7, '8', 10, 'Mark Webber', 'WEB', 'Red Bull Renault', '1:15.900', '1:15.481', '1:17.014', 20.0, '2008', 'germany')\n",
            "(8, '9', 15, 'Sebastian Vettel', 'VET', 'STR Ferrari', '1:15.532', '1:15.420', '1:17.244', 22.0, '2008', 'germany')\n",
            "(9, '10', 9, 'David Coulthard', 'COU', 'Red Bull Renault', '1:15.975', '1:15.338', '1:17.503', 20.0, '2008', 'germany')\n"
          ]
        }
      ]
    },
    {
      "cell_type": "code",
      "source": [
        "#Load race data\n",
        "race_column_names = [\"Position\",\"Driver Number\",\"Driver\",\"Driver Abbreviation\",\"Car\",\"Laps\",\"Time/Retired\",\"Points\",\"Year\",\"Location\"]\n",
        "\n",
        "race_directory_path = \"drive/MyDrive/f1_data/*/Race Results/*.csv\"\n",
        "race_files = glob.glob(race_directory_path)\n",
        "\n",
        "dfs = []\n",
        "for file in race_files:\n",
        "  year = file.split(\"/\")[3]\n",
        "  location = file.split(\"/\")[5].split(\"_\")[0].replace(\"-\", \" \")\n",
        "  df = pd.read_csv(file, header = None, skiprows=1)\n",
        "  df['Year'] = year\n",
        "  df['Location'] = location\n",
        "  dfs.append(df)\n",
        "\n",
        "race_dataframe = pd.concat(dfs, ignore_index=True)\n",
        "race_dataframe.columns = race_column_names"
      ],
      "metadata": {
        "id": "c-cxXS99MBcZ"
      },
      "execution_count": null,
      "outputs": []
    },
    {
      "cell_type": "code",
      "source": [
        "print(len(race_dataframe))"
      ],
      "metadata": {
        "colab": {
          "base_uri": "https://localhost:8080/"
        },
        "id": "CBS0eyOdM91P",
        "outputId": "eca2d928-6ec5-42c4-823b-b7c91ecfbf59"
      },
      "execution_count": null,
      "outputs": [
        {
          "output_type": "stream",
          "name": "stdout",
          "text": [
            "24655\n"
          ]
        }
      ]
    },
    {
      "cell_type": "code",
      "source": [
        "print(race_dataframe.head(-20))"
      ],
      "metadata": {
        "colab": {
          "base_uri": "https://localhost:8080/"
        },
        "id": "_oLsV4rEMH2E",
        "outputId": "b120b6d6-c30c-4732-f817-6f27a5f1977b"
      },
      "execution_count": null,
      "outputs": [
        {
          "output_type": "stream",
          "name": "stdout",
          "text": [
            "      Position Driver Number             Driver Driver Abbreviation  \\\n",
            "0            1             2       Felipe Massa                 MAS   \n",
            "1            2             1     Kimi Räikkönen                 RAI   \n",
            "2            3             4      Robert Kubica                 KUB   \n",
            "3            4             3      Nick Heidfeld                 HEI   \n",
            "4            5            23  Heikki Kovalainen                 KOV   \n",
            "...        ...           ...                ...                 ...   \n",
            "24630        3             8       Jochen Rindt                 RIN   \n",
            "24631        4             5        Graham Hill                 HIL   \n",
            "24632        5             6     Jackie Stewart                 STE   \n",
            "24633        6             9    Lorenzo Bandini                 BAN   \n",
            "24634        7            12         Dan Gurney                 GUR   \n",
            "\n",
            "                    Car  Laps Time/Retired  Points  Year Location  \n",
            "0               Ferrari  57.0  1:31:06.970    10.0  2008  bahrain  \n",
            "1               Ferrari  57.0      +3.339s     8.0  2008  bahrain  \n",
            "2            Sauber BMW  57.0      +4.998s     6.0  2008  bahrain  \n",
            "3            Sauber BMW  57.0      +8.409s     5.0  2008  bahrain  \n",
            "4      McLaren Mercedes  57.0     +26.789s     4.0  2008  bahrain  \n",
            "...                 ...   ...          ...     ...   ...      ...  \n",
            "24630   Cooper Maserati  15.0    +152.600s     4.0  1966  germany  \n",
            "24631               BRM  15.0    +401.400s     3.0  1966  germany  \n",
            "24632               BRM  15.0    +508.900s     2.0  1966  germany  \n",
            "24633           Ferrari  15.0    +656.400s     1.0  1966  germany  \n",
            "24634      Eagle Climax  14.0       +1 lap     0.0  1966  germany  \n",
            "\n",
            "[24635 rows x 10 columns]\n"
          ]
        }
      ]
    },
    {
      "cell_type": "code",
      "source": [
        "race_dataframe.to_sql(\"race\", engine, if_exists=\"append\")"
      ],
      "metadata": {
        "colab": {
          "base_uri": "https://localhost:8080/"
        },
        "id": "DFK5lIpINEF8",
        "outputId": "4877d589-1b46-445a-8de5-3c5ace9c8ccf"
      },
      "execution_count": null,
      "outputs": [
        {
          "output_type": "execute_result",
          "data": {
            "text/plain": [
              "24655"
            ]
          },
          "metadata": {},
          "execution_count": 11
        }
      ]
    },
    {
      "cell_type": "code",
      "source": [
        "raceTable = Table(\"race\", metadata, autoload_with=engine)\n",
        "\n",
        "# Perform a select query\n",
        "query = raceTable.select().limit(10)\n",
        "\n",
        "with engine.connect() as connection:\n",
        "    result = connection.execute(query)\n",
        "    for row in result:\n",
        "        print(row)"
      ],
      "metadata": {
        "colab": {
          "base_uri": "https://localhost:8080/"
        },
        "id": "TiEGV0uKNJgg",
        "outputId": "5c6e7ac4-55d3-404e-eb12-f6012e3dd658"
      },
      "execution_count": null,
      "outputs": [
        {
          "output_type": "stream",
          "name": "stdout",
          "text": [
            "(0, '1', '2', 'Felipe Massa', 'MAS', 'Ferrari', 57.0, '1:31:06.970', 10.0, '2008', 'bahrain')\n",
            "(1, '2', '1', 'Kimi Räikkönen', 'RAI', 'Ferrari', 57.0, '+3.339s', 8.0, '2008', 'bahrain')\n",
            "(2, '3', '4', 'Robert Kubica', 'KUB', 'Sauber BMW', 57.0, '+4.998s', 6.0, '2008', 'bahrain')\n",
            "(3, '4', '3', 'Nick Heidfeld', 'HEI', 'Sauber BMW', 57.0, '+8.409s', 5.0, '2008', 'bahrain')\n",
            "(4, '5', '23', 'Heikki Kovalainen', 'KOV', 'McLaren Mercedes', 57.0, '+26.789s', 4.0, '2008', 'bahrain')\n",
            "(5, '6', '11', 'Jarno Trulli', 'TRU', 'Toyota', 57.0, '+41.314s', 3.0, '2008', 'bahrain')\n",
            "(6, '7', '10', 'Mark Webber', 'WEB', 'Red Bull Renault', 57.0, '+45.473s', 2.0, '2008', 'bahrain')\n",
            "(7, '8', '7', 'Nico Rosberg', 'ROS', 'Williams Toyota', 57.0, '+55.889s', 1.0, '2008', 'bahrain')\n",
            "(8, '9', '12', 'Timo Glock', 'GLO', 'Toyota', 57.0, '+69.500s', 0.0, '2008', 'bahrain')\n",
            "(9, '10', '5', 'Fernando Alonso', 'ALO', 'Renault', 57.0, '+77.181s', 0.0, '2008', 'bahrain')\n"
          ]
        }
      ]
    },
    {
      "cell_type": "code",
      "source": [
        "!pip install langchain langchain-experimental pymysql transformers accelerate\n"
      ],
      "metadata": {
        "colab": {
          "base_uri": "https://localhost:8080/"
        },
        "id": "uyaA0w3pP4rw",
        "outputId": "4e7ab4b2-2557-437c-eda0-691a9c716682"
      },
      "execution_count": null,
      "outputs": [
        {
          "output_type": "stream",
          "name": "stdout",
          "text": [
            "Collecting langchain\n",
            "  Downloading langchain-0.1.17-py3-none-any.whl (867 kB)\n",
            "\u001b[2K     \u001b[90m━━━━━━━━━━━━━━━━━━━━━━━━━━━━━━━━━━━━━━━━\u001b[0m \u001b[32m867.6/867.6 kB\u001b[0m \u001b[31m7.7 MB/s\u001b[0m eta \u001b[36m0:00:00\u001b[0m\n",
            "\u001b[?25hCollecting langchain-experimental\n",
            "  Downloading langchain_experimental-0.0.57-py3-none-any.whl (193 kB)\n",
            "\u001b[2K     \u001b[90m━━━━━━━━━━━━━━━━━━━━━━━━━━━━━━━━━━━━━━━━\u001b[0m \u001b[32m193.4/193.4 kB\u001b[0m \u001b[31m8.3 MB/s\u001b[0m eta \u001b[36m0:00:00\u001b[0m\n",
            "\u001b[?25hCollecting pymysql\n",
            "  Downloading PyMySQL-1.1.0-py3-none-any.whl (44 kB)\n",
            "\u001b[2K     \u001b[90m━━━━━━━━━━━━━━━━━━━━━━━━━━━━━━━━━━━━━━━━\u001b[0m \u001b[32m44.8/44.8 kB\u001b[0m \u001b[31m4.6 MB/s\u001b[0m eta \u001b[36m0:00:00\u001b[0m\n",
            "\u001b[?25hRequirement already satisfied: transformers in /usr/local/lib/python3.10/dist-packages (4.40.1)\n",
            "Collecting accelerate\n",
            "  Downloading accelerate-0.30.0-py3-none-any.whl (302 kB)\n",
            "\u001b[2K     \u001b[90m━━━━━━━━━━━━━━━━━━━━━━━━━━━━━━━━━━━━━━━━\u001b[0m \u001b[32m302.4/302.4 kB\u001b[0m \u001b[31m10.7 MB/s\u001b[0m eta \u001b[36m0:00:00\u001b[0m\n",
            "\u001b[?25hRequirement already satisfied: PyYAML>=5.3 in /usr/local/lib/python3.10/dist-packages (from langchain) (6.0.1)\n",
            "Requirement already satisfied: SQLAlchemy<3,>=1.4 in /usr/local/lib/python3.10/dist-packages (from langchain) (2.0.29)\n",
            "Requirement already satisfied: aiohttp<4.0.0,>=3.8.3 in /usr/local/lib/python3.10/dist-packages (from langchain) (3.9.5)\n",
            "Requirement already satisfied: async-timeout<5.0.0,>=4.0.0 in /usr/local/lib/python3.10/dist-packages (from langchain) (4.0.3)\n",
            "Collecting dataclasses-json<0.7,>=0.5.7 (from langchain)\n",
            "  Downloading dataclasses_json-0.6.5-py3-none-any.whl (28 kB)\n",
            "Collecting jsonpatch<2.0,>=1.33 (from langchain)\n",
            "  Downloading jsonpatch-1.33-py2.py3-none-any.whl (12 kB)\n",
            "Collecting langchain-community<0.1,>=0.0.36 (from langchain)\n",
            "  Downloading langchain_community-0.0.37-py3-none-any.whl (2.0 MB)\n",
            "\u001b[2K     \u001b[90m━━━━━━━━━━━━━━━━━━━━━━━━━━━━━━━━━━━━━━━━\u001b[0m \u001b[32m2.0/2.0 MB\u001b[0m \u001b[31m15.1 MB/s\u001b[0m eta \u001b[36m0:00:00\u001b[0m\n",
            "\u001b[?25hCollecting langchain-core<0.2.0,>=0.1.48 (from langchain)\n",
            "  Downloading langchain_core-0.1.52-py3-none-any.whl (302 kB)\n",
            "\u001b[2K     \u001b[90m━━━━━━━━━━━━━━━━━━━━━━━━━━━━━━━━━━━━━━━━\u001b[0m \u001b[32m302.9/302.9 kB\u001b[0m \u001b[31m13.0 MB/s\u001b[0m eta \u001b[36m0:00:00\u001b[0m\n",
            "\u001b[?25hCollecting langchain-text-splitters<0.1,>=0.0.1 (from langchain)\n",
            "  Downloading langchain_text_splitters-0.0.1-py3-none-any.whl (21 kB)\n",
            "Collecting langsmith<0.2.0,>=0.1.17 (from langchain)\n",
            "  Downloading langsmith-0.1.54-py3-none-any.whl (116 kB)\n",
            "\u001b[2K     \u001b[90m━━━━━━━━━━━━━━━━━━━━━━━━━━━━━━━━━━━━━━━━\u001b[0m \u001b[32m116.7/116.7 kB\u001b[0m \u001b[31m11.0 MB/s\u001b[0m eta \u001b[36m0:00:00\u001b[0m\n",
            "\u001b[?25hRequirement already satisfied: numpy<2,>=1 in /usr/local/lib/python3.10/dist-packages (from langchain) (1.25.2)\n",
            "Requirement already satisfied: pydantic<3,>=1 in /usr/local/lib/python3.10/dist-packages (from langchain) (2.7.1)\n",
            "Requirement already satisfied: requests<3,>=2 in /usr/local/lib/python3.10/dist-packages (from langchain) (2.31.0)\n",
            "Requirement already satisfied: tenacity<9.0.0,>=8.1.0 in /usr/local/lib/python3.10/dist-packages (from langchain) (8.2.3)\n",
            "Requirement already satisfied: filelock in /usr/local/lib/python3.10/dist-packages (from transformers) (3.14.0)\n",
            "Requirement already satisfied: huggingface-hub<1.0,>=0.19.3 in /usr/local/lib/python3.10/dist-packages (from transformers) (0.20.3)\n",
            "Requirement already satisfied: packaging>=20.0 in /usr/local/lib/python3.10/dist-packages (from transformers) (24.0)\n",
            "Requirement already satisfied: regex!=2019.12.17 in /usr/local/lib/python3.10/dist-packages (from transformers) (2023.12.25)\n",
            "Requirement already satisfied: tokenizers<0.20,>=0.19 in /usr/local/lib/python3.10/dist-packages (from transformers) (0.19.1)\n",
            "Requirement already satisfied: safetensors>=0.4.1 in /usr/local/lib/python3.10/dist-packages (from transformers) (0.4.3)\n",
            "Requirement already satisfied: tqdm>=4.27 in /usr/local/lib/python3.10/dist-packages (from transformers) (4.66.2)\n",
            "Requirement already satisfied: psutil in /usr/local/lib/python3.10/dist-packages (from accelerate) (5.9.5)\n",
            "Requirement already satisfied: torch>=1.10.0 in /usr/local/lib/python3.10/dist-packages (from accelerate) (2.2.1+cu121)\n",
            "Requirement already satisfied: aiosignal>=1.1.2 in /usr/local/lib/python3.10/dist-packages (from aiohttp<4.0.0,>=3.8.3->langchain) (1.3.1)\n",
            "Requirement already satisfied: attrs>=17.3.0 in /usr/local/lib/python3.10/dist-packages (from aiohttp<4.0.0,>=3.8.3->langchain) (23.2.0)\n",
            "Requirement already satisfied: frozenlist>=1.1.1 in /usr/local/lib/python3.10/dist-packages (from aiohttp<4.0.0,>=3.8.3->langchain) (1.4.1)\n",
            "Requirement already satisfied: multidict<7.0,>=4.5 in /usr/local/lib/python3.10/dist-packages (from aiohttp<4.0.0,>=3.8.3->langchain) (6.0.5)\n",
            "Requirement already satisfied: yarl<2.0,>=1.0 in /usr/local/lib/python3.10/dist-packages (from aiohttp<4.0.0,>=3.8.3->langchain) (1.9.4)\n",
            "Collecting marshmallow<4.0.0,>=3.18.0 (from dataclasses-json<0.7,>=0.5.7->langchain)\n",
            "  Downloading marshmallow-3.21.2-py3-none-any.whl (49 kB)\n",
            "\u001b[2K     \u001b[90m━━━━━━━━━━━━━━━━━━━━━━━━━━━━━━━━━━━━━━━━\u001b[0m \u001b[32m49.3/49.3 kB\u001b[0m \u001b[31m5.5 MB/s\u001b[0m eta \u001b[36m0:00:00\u001b[0m\n",
            "\u001b[?25hCollecting typing-inspect<1,>=0.4.0 (from dataclasses-json<0.7,>=0.5.7->langchain)\n",
            "  Downloading typing_inspect-0.9.0-py3-none-any.whl (8.8 kB)\n",
            "Requirement already satisfied: fsspec>=2023.5.0 in /usr/local/lib/python3.10/dist-packages (from huggingface-hub<1.0,>=0.19.3->transformers) (2023.6.0)\n",
            "Requirement already satisfied: typing-extensions>=3.7.4.3 in /usr/local/lib/python3.10/dist-packages (from huggingface-hub<1.0,>=0.19.3->transformers) (4.11.0)\n",
            "Collecting jsonpointer>=1.9 (from jsonpatch<2.0,>=1.33->langchain)\n",
            "  Downloading jsonpointer-2.4-py2.py3-none-any.whl (7.8 kB)\n",
            "Collecting packaging>=20.0 (from transformers)\n",
            "  Downloading packaging-23.2-py3-none-any.whl (53 kB)\n",
            "\u001b[2K     \u001b[90m━━━━━━━━━━━━━━━━━━━━━━━━━━━━━━━━━━━━━━━━\u001b[0m \u001b[32m53.0/53.0 kB\u001b[0m \u001b[31m5.6 MB/s\u001b[0m eta \u001b[36m0:00:00\u001b[0m\n",
            "\u001b[?25hCollecting orjson<4.0.0,>=3.9.14 (from langsmith<0.2.0,>=0.1.17->langchain)\n",
            "  Downloading orjson-3.10.3-cp310-cp310-manylinux_2_17_x86_64.manylinux2014_x86_64.whl (142 kB)\n",
            "\u001b[2K     \u001b[90m━━━━━━━━━━━━━━━━━━━━━━━━━━━━━━━━━━━━━━━━\u001b[0m \u001b[32m142.5/142.5 kB\u001b[0m \u001b[31m12.6 MB/s\u001b[0m eta \u001b[36m0:00:00\u001b[0m\n",
            "\u001b[?25hRequirement already satisfied: annotated-types>=0.4.0 in /usr/local/lib/python3.10/dist-packages (from pydantic<3,>=1->langchain) (0.6.0)\n",
            "Requirement already satisfied: pydantic-core==2.18.2 in /usr/local/lib/python3.10/dist-packages (from pydantic<3,>=1->langchain) (2.18.2)\n",
            "Requirement already satisfied: charset-normalizer<4,>=2 in /usr/local/lib/python3.10/dist-packages (from requests<3,>=2->langchain) (3.3.2)\n",
            "Requirement already satisfied: idna<4,>=2.5 in /usr/local/lib/python3.10/dist-packages (from requests<3,>=2->langchain) (3.7)\n",
            "Requirement already satisfied: urllib3<3,>=1.21.1 in /usr/local/lib/python3.10/dist-packages (from requests<3,>=2->langchain) (2.0.7)\n",
            "Requirement already satisfied: certifi>=2017.4.17 in /usr/local/lib/python3.10/dist-packages (from requests<3,>=2->langchain) (2024.2.2)\n",
            "Requirement already satisfied: greenlet!=0.4.17 in /usr/local/lib/python3.10/dist-packages (from SQLAlchemy<3,>=1.4->langchain) (3.0.3)\n",
            "Requirement already satisfied: sympy in /usr/local/lib/python3.10/dist-packages (from torch>=1.10.0->accelerate) (1.12)\n",
            "Requirement already satisfied: networkx in /usr/local/lib/python3.10/dist-packages (from torch>=1.10.0->accelerate) (3.3)\n",
            "Requirement already satisfied: jinja2 in /usr/local/lib/python3.10/dist-packages (from torch>=1.10.0->accelerate) (3.1.3)\n",
            "Collecting nvidia-cuda-nvrtc-cu12==12.1.105 (from torch>=1.10.0->accelerate)\n",
            "  Using cached nvidia_cuda_nvrtc_cu12-12.1.105-py3-none-manylinux1_x86_64.whl (23.7 MB)\n",
            "Collecting nvidia-cuda-runtime-cu12==12.1.105 (from torch>=1.10.0->accelerate)\n",
            "  Using cached nvidia_cuda_runtime_cu12-12.1.105-py3-none-manylinux1_x86_64.whl (823 kB)\n",
            "Collecting nvidia-cuda-cupti-cu12==12.1.105 (from torch>=1.10.0->accelerate)\n",
            "  Using cached nvidia_cuda_cupti_cu12-12.1.105-py3-none-manylinux1_x86_64.whl (14.1 MB)\n",
            "Collecting nvidia-cudnn-cu12==8.9.2.26 (from torch>=1.10.0->accelerate)\n",
            "  Using cached nvidia_cudnn_cu12-8.9.2.26-py3-none-manylinux1_x86_64.whl (731.7 MB)\n",
            "Collecting nvidia-cublas-cu12==12.1.3.1 (from torch>=1.10.0->accelerate)\n",
            "  Using cached nvidia_cublas_cu12-12.1.3.1-py3-none-manylinux1_x86_64.whl (410.6 MB)\n",
            "Collecting nvidia-cufft-cu12==11.0.2.54 (from torch>=1.10.0->accelerate)\n",
            "  Using cached nvidia_cufft_cu12-11.0.2.54-py3-none-manylinux1_x86_64.whl (121.6 MB)\n",
            "Collecting nvidia-curand-cu12==10.3.2.106 (from torch>=1.10.0->accelerate)\n",
            "  Using cached nvidia_curand_cu12-10.3.2.106-py3-none-manylinux1_x86_64.whl (56.5 MB)\n",
            "Collecting nvidia-cusolver-cu12==11.4.5.107 (from torch>=1.10.0->accelerate)\n",
            "  Using cached nvidia_cusolver_cu12-11.4.5.107-py3-none-manylinux1_x86_64.whl (124.2 MB)\n",
            "Collecting nvidia-cusparse-cu12==12.1.0.106 (from torch>=1.10.0->accelerate)\n",
            "  Using cached nvidia_cusparse_cu12-12.1.0.106-py3-none-manylinux1_x86_64.whl (196.0 MB)\n",
            "Collecting nvidia-nccl-cu12==2.19.3 (from torch>=1.10.0->accelerate)\n",
            "  Using cached nvidia_nccl_cu12-2.19.3-py3-none-manylinux1_x86_64.whl (166.0 MB)\n",
            "Collecting nvidia-nvtx-cu12==12.1.105 (from torch>=1.10.0->accelerate)\n",
            "  Using cached nvidia_nvtx_cu12-12.1.105-py3-none-manylinux1_x86_64.whl (99 kB)\n",
            "Requirement already satisfied: triton==2.2.0 in /usr/local/lib/python3.10/dist-packages (from torch>=1.10.0->accelerate) (2.2.0)\n",
            "Collecting nvidia-nvjitlink-cu12 (from nvidia-cusolver-cu12==11.4.5.107->torch>=1.10.0->accelerate)\n",
            "  Using cached nvidia_nvjitlink_cu12-12.4.127-py3-none-manylinux2014_x86_64.whl (21.1 MB)\n",
            "Collecting mypy-extensions>=0.3.0 (from typing-inspect<1,>=0.4.0->dataclasses-json<0.7,>=0.5.7->langchain)\n",
            "  Downloading mypy_extensions-1.0.0-py3-none-any.whl (4.7 kB)\n",
            "Requirement already satisfied: MarkupSafe>=2.0 in /usr/local/lib/python3.10/dist-packages (from jinja2->torch>=1.10.0->accelerate) (2.1.5)\n",
            "Requirement already satisfied: mpmath>=0.19 in /usr/local/lib/python3.10/dist-packages (from sympy->torch>=1.10.0->accelerate) (1.3.0)\n",
            "Installing collected packages: pymysql, packaging, orjson, nvidia-nvtx-cu12, nvidia-nvjitlink-cu12, nvidia-nccl-cu12, nvidia-curand-cu12, nvidia-cufft-cu12, nvidia-cuda-runtime-cu12, nvidia-cuda-nvrtc-cu12, nvidia-cuda-cupti-cu12, nvidia-cublas-cu12, mypy-extensions, jsonpointer, typing-inspect, nvidia-cusparse-cu12, nvidia-cudnn-cu12, marshmallow, jsonpatch, nvidia-cusolver-cu12, langsmith, dataclasses-json, langchain-core, langchain-text-splitters, langchain-community, accelerate, langchain, langchain-experimental\n",
            "  Attempting uninstall: packaging\n",
            "    Found existing installation: packaging 24.0\n",
            "    Uninstalling packaging-24.0:\n",
            "      Successfully uninstalled packaging-24.0\n",
            "Successfully installed accelerate-0.30.0 dataclasses-json-0.6.5 jsonpatch-1.33 jsonpointer-2.4 langchain-0.1.17 langchain-community-0.0.37 langchain-core-0.1.52 langchain-experimental-0.0.57 langchain-text-splitters-0.0.1 langsmith-0.1.54 marshmallow-3.21.2 mypy-extensions-1.0.0 nvidia-cublas-cu12-12.1.3.1 nvidia-cuda-cupti-cu12-12.1.105 nvidia-cuda-nvrtc-cu12-12.1.105 nvidia-cuda-runtime-cu12-12.1.105 nvidia-cudnn-cu12-8.9.2.26 nvidia-cufft-cu12-11.0.2.54 nvidia-curand-cu12-10.3.2.106 nvidia-cusolver-cu12-11.4.5.107 nvidia-cusparse-cu12-12.1.0.106 nvidia-nccl-cu12-2.19.3 nvidia-nvjitlink-cu12-12.4.127 nvidia-nvtx-cu12-12.1.105 orjson-3.10.3 packaging-23.2 pymysql-1.1.0 typing-inspect-0.9.0\n"
          ]
        }
      ]
    },
    {
      "cell_type": "code",
      "source": [
        "from langchain.utilities import SQLDatabase\n",
        "from langchain_experimental.sql import SQLDatabaseChain\n",
        "from langchain.prompts import PromptTemplate\n",
        "from langchain.prompts.chat import HumanMessagePromptTemplate\n",
        "from langchain_community.llms.huggingface_pipeline import HuggingFacePipeline\n",
        "from transformers import AutoModelForCausalLM, AutoTokenizer, pipeline\n",
        "import transformers\n",
        "import torch\n",
        "from langchain.schema import HumanMessage, SystemMessage\n",
        "\n",
        "model = \"codellama/CodeLlama-7b-hf\"\n",
        "\n",
        "tokenizer = AutoTokenizer.from_pretrained(model)\n",
        "pipeline = transformers.pipeline(\n",
        "    \"text-generation\",\n",
        "    model=model,\n",
        "    torch_dtype=torch.float16,\n",
        "    device_map=\"auto\",\n",
        "    max_new_tokens=50000,\n",
        "    # max_length=50000\n",
        ")\n",
        "hf = HuggingFacePipeline(pipeline=pipeline)\n"
      ],
      "metadata": {
        "colab": {
          "base_uri": "https://localhost:8080/",
          "height": 66,
          "referenced_widgets": [
            "d21b7bcf8f514a39a4d255e97cd8c0d0",
            "d1ac7df7ad294e9d9e9157653469d269",
            "2ff1a08d51564f6eab9a3b19d9c6b31f",
            "9a9752d88a1545899ffa3980475174cb",
            "6aab2f851adc47e79e88798fc4d48609",
            "831e9746ddf44e56b4ecf043414cd663",
            "df75bf72cd674be7bb831404f8900232",
            "ea6a038263c6450aa5c17e097e89cbce",
            "ca3eee0594b143c580817a464af6e841",
            "e7aaa445de654079aa2044e682e78d22",
            "ac0358446b3a47d69af1f9e9f366966d"
          ]
        },
        "id": "hU2--3-21NR6",
        "outputId": "007397e6-4be4-4840-a6e8-f64fd95600e5"
      },
      "execution_count": null,
      "outputs": [
        {
          "output_type": "display_data",
          "data": {
            "text/plain": [
              "Loading checkpoint shards:   0%|          | 0/2 [00:00<?, ?it/s]"
            ],
            "application/vnd.jupyter.widget-view+json": {
              "version_major": 2,
              "version_minor": 0,
              "model_id": "d21b7bcf8f514a39a4d255e97cd8c0d0"
            }
          },
          "metadata": {}
        },
        {
          "output_type": "stream",
          "name": "stderr",
          "text": [
            "WARNING:root:Some parameters are on the meta device device because they were offloaded to the disk and cpu.\n"
          ]
        }
      ]
    },
    {
      "cell_type": "code",
      "source": [
        "sqllite_url = \"sqlite:///database.sqlite\"\n",
        "db = SQLDatabase.from_uri(sqllite_url, include_tables=[\"race\",\"qualifying\"],sample_rows_in_table_info=100)\n",
        "\n",
        "# db_chain = SQLDatabaseChain.from_llm(hf, db, verbose=True)\n",
        "\n",
        "chain = SQLDatabaseChain.from_llm(hf, db, verbose = True)\n",
        "\n",
        "prompt = PromptTemplate(\n",
        "    input_variables=[\"query\"],\n",
        "    template=\"Answer the question based on the data in the database: {query}\",\n",
        ")\n",
        "\n",
        "messages = [\n",
        "    SystemMessage(content=\"You have access to a database containing Formula 1 race and qualifying results.\"),\n",
        "    HumanMessage(content=\"Which driver has won the most races in the history of Formula 1?\"),\n",
        "]\n",
        "\n",
        "# chain = prompt | hf\n",
        "\n",
        "# response = chain.run(messages=messages, prompt = [prompt.format(query=\"Who has won the most races in Formula 1?\")],  max_length=10000)\n",
        "inputs = {\"query\": \"Who has won the most races in Formula 1?\"}\n",
        "# response = chain.run(inputs=inputs, messages=messages, prompts=[prompt], max_length=10000)\n",
        "# print(chain.invoke({\"question\": \"Who has won the most races in Formula 1?\"}))\n",
        "print(chain.invoke(input = \"Who has won the most races in Formula 1?\", max_new_tokens = 10000, max_length=10000))\n",
        "# print(response)"
      ],
      "metadata": {
        "id": "fTGT8Pr94RNw",
        "colab": {
          "base_uri": "https://localhost:8080/"
        },
        "outputId": "5cbcc92a-326b-4ef1-dc2c-cde7703dc52b"
      },
      "execution_count": null,
      "outputs": [
        {
          "output_type": "stream",
          "name": "stderr",
          "text": [
            "Setting `pad_token_id` to `eos_token_id`:2 for open-end generation.\n",
            "Both `max_new_tokens` (=50000) and `max_length`(=50000) seem to have been set. `max_new_tokens` will take precedence. Please refer to the documentation for more information. (https://huggingface.co/docs/transformers/main/en/main_classes/text_generation)\n"
          ]
        },
        {
          "output_type": "stream",
          "name": "stdout",
          "text": [
            "\n",
            "\n",
            "\u001b[1m> Entering new SQLDatabaseChain chain...\u001b[0m\n",
            "Who has won the most races in Formula 1?\n",
            "SQLQuery:"
          ]
        }
      ]
    }
  ]
}